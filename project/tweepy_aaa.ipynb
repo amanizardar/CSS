{
 "cells": [
  {
   "cell_type": "code",
   "execution_count": 1,
   "metadata": {},
   "outputs": [],
   "source": [
    "import tweepy\n",
    "import random\n",
    "from matplotlib import pyplot as plt"
   ]
  },
  {
   "cell_type": "code",
   "execution_count": 2,
   "metadata": {},
   "outputs": [],
   "source": [
    "# client = tweepy.Client(\n",
    "#     consumer_key=\"MleJeiU9KM26evls623GTZUZu\",\n",
    "#     consumer_secret=\"exhT0sUUmIJOlutw0hOmggdwooaW17KchsWCIw555bEHu5ZZtr\",\n",
    "#     access_token=\"1159501866515873792-UkxQK8Vkta4ZSnux9AcMMGR7tRV3Fr\",\n",
    "#     access_token_secret=\"qtUiP8kDYsTdecbmd7GfCQuzlW79DL2IeFxgfunnpKM8b\",\n",
    "#     wait_on_rate_limit=True\n",
    "# )\n"
   ]
  },
  {
   "cell_type": "code",
   "execution_count": 4,
   "metadata": {},
   "outputs": [],
   "source": [
    "client = tweepy.Client(bearer_token='AAAAAAAAAAAAAAAAAAAAANBeYAEAAAAAgveakwQF7x6LG1RisGOLsZE%2FxOg%3DQjd7wwADzri230cjA9ERzWVP2qPIrvbiuSMXu29igUyQaGsPh0',wait_on_rate_limit=True)"
   ]
  },
  {
   "cell_type": "code",
   "execution_count": 5,
   "metadata": {},
   "outputs": [],
   "source": [
    "query = 'from:suhemparack -is:retweet'"
   ]
  },
  {
   "cell_type": "code",
   "execution_count": 6,
   "metadata": {},
   "outputs": [],
   "source": [
    "tweets = client.search_recent_tweets(query=query, tweet_fields=['context_annotations', 'created_at'], max_results=100)"
   ]
  },
  {
   "cell_type": "code",
   "execution_count": 7,
   "metadata": {},
   "outputs": [
    {
     "name": "stdout",
     "output_type": "stream",
     "text": [
      "@justin_ct_ho @olivermb @cbarrie Looks like there is feedback in our uservoice regarding this https://t.co/OB7IvjXDwH - can y'all upvote?\n",
      "@olivermb @cbarrie @justin_ct_ho\n",
      "@Kem_47 @TwitterAPI can you pls DM? your DMs are closed\n",
      "[{'domain': {'id': '46', 'name': 'Brand Category', 'description': 'Categories within Brand Verticals that narrow down the scope of Brands'}, 'entity': {'id': '781974596752842752', 'name': 'Services'}}, {'domain': {'id': '47', 'name': 'Brand', 'description': 'Brands and Companies'}, 'entity': {'id': '10045225402', 'name': 'Twitter'}}]\n",
      "Whether you are building apps for crisis response or doing research on crisis informatics using the #TwitterAPI, please feel free to reach out with how we can support you! https://t.co/nXhZymytCY\n",
      "[{'domain': {'id': '46', 'name': 'Brand Category', 'description': 'Categories within Brand Verticals that narrow down the scope of Brands'}, 'entity': {'id': '781974596752842752', 'name': 'Services'}}, {'domain': {'id': '48', 'name': 'Product', 'description': 'Products created by Brands.  Examples: Ford Explorer, Apple iPhone.'}, 'entity': {'id': '1412579054855671809', 'name': 'Google Innovation'}}, {'domain': {'id': '46', 'name': 'Brand Category', 'description': 'Categories within Brand Verticals that narrow down the scope of Brands'}, 'entity': {'id': '781974596752842752', 'name': 'Services'}}, {'domain': {'id': '47', 'name': 'Brand', 'description': 'Brands and Companies'}, 'entity': {'id': '10045225402', 'name': 'Twitter'}}]\n",
      "@ICFJ @RanaAyyub Also check out this tool for journalists https://t.co/gHjmd2fpI4\n",
      "[{'domain': {'id': '10', 'name': 'Person', 'description': 'Named people in the world like Nelson Mandela'}, 'entity': {'id': '1488540146836205568', 'name': 'Rana Ayyub'}}, {'domain': {'id': '94', 'name': 'Journalist', 'description': \"A journalist like 'Anderson Cooper'\"}, 'entity': {'id': '1488540146836205568', 'name': 'Rana Ayyub'}}]\n",
      "A great example of apps &amp; tools based on academic research. Happy to be part of this great open source project - the harassment manager is a web app that is built on top of the #TwitterAPI aimed at addressing toxicity in social media. Hope journalists find it valuable 🙏 https://t.co/HK8FcTadCq\n",
      "[{'domain': {'id': '119', 'name': 'Holiday', 'description': 'Holidays like Christmas or Halloween'}, 'entity': {'id': '1355143236482863105', 'name': \"International Women's Day\", 'description': \"this entity for all conversations for International Women's Day all year\"}}, {'domain': {'id': '119', 'name': 'Holiday', 'description': 'Holidays like Christmas or Halloween'}, 'entity': {'id': '1465696502051864584', 'name': \"International Women's Day\"}}, {'domain': {'id': '65', 'name': 'Interests and Hobbies Vertical', 'description': 'Top level interests and hobbies groupings, like Food or Travel'}, 'entity': {'id': '848920371311001600', 'name': 'Technology', 'description': 'Technology and computing'}}, {'domain': {'id': '66', 'name': 'Interests and Hobbies Category', 'description': 'A grouping of interests and hobbies entities, like Novelty Food or Destinations'}, 'entity': {'id': '848921413196984320', 'name': 'Computer programming', 'description': 'Computer programming'}}, {'domain': {'id': '66', 'name': 'Interests and Hobbies Category', 'description': 'A grouping of interests and hobbies entities, like Novelty Food or Destinations'}, 'entity': {'id': '849075430715936768', 'name': 'Open source', 'description': 'Open source'}}]\n",
      "@thelifeofrishi @bharatxoni @designermaybe @andypiper @_priyankashetty Pls DM me @bharatxoni\n",
      "Searching for Tweets with the #TwitterAPI v2 in Python using Tweepy https://t.co/WpwaHiZ3sM https://t.co/QUnPGNshsU\n",
      "[{'domain': {'id': '46', 'name': 'Brand Category', 'description': 'Categories within Brand Verticals that narrow down the scope of Brands'}, 'entity': {'id': '781974596752842752', 'name': 'Services'}}, {'domain': {'id': '47', 'name': 'Brand', 'description': 'Brands and Companies'}, 'entity': {'id': '10045225402', 'name': 'Twitter'}}]\n"
     ]
    }
   ],
   "source": [
    "for tweet in tweets.data:\n",
    "    print(tweet.text)\n",
    "    if len(tweet.context_annotations) > 0:\n",
    "        print(tweet.context_annotations)"
   ]
  },
  {
   "cell_type": "code",
   "execution_count": 8,
   "metadata": {},
   "outputs": [
    {
     "name": "stdout",
     "output_type": "stream",
     "text": [
      "100\n"
     ]
    }
   ],
   "source": [
    "id = '2244994945'\n",
    "\n",
    "users = client.get_users_followers(id=id)\n",
    "\n",
    "\n",
    "\n",
    "# for user in users:\n",
    "#     print(user)\n",
    "print(len(users.data))"
   ]
  },
  {
   "cell_type": "code",
   "execution_count": 9,
   "metadata": {},
   "outputs": [],
   "source": [
    "result = client.get_users_followers(id=2244994945)"
   ]
  },
  {
   "cell_type": "code",
   "execution_count": 10,
   "metadata": {},
   "outputs": [
    {
     "name": "stdout",
     "output_type": "stream",
     "text": [
      "Response(data=[<User id=1395108203235627014 name=Pup Mysterys username=PMysterys>, <User id=1402308950196994055 name=Uta Christen username=UtaChristen3>, <User id=1501180123281821696 name=Solomon Grundiee username=Grundieeee>, <User id=498635688 name=Ainul Hadid username=sindermut>, <User id=3373681281 name=Vignesh Baskaran username=tweetvbaskaran>, <User id=1493978016573267973 name=Roman Padilla username=pa58291530>, <User id=1441000705582526470 name=Amaar D username=poonamdesai1307>, <User id=1500707166885498882 name=Daniel username=Danydavidgg>, <User id=1478306023664349184 name=孟子成 username=xiaohei111111>, <User id=1503337571623256070 name=Htet Win Khant username=HtetWinKhant7>, <User id=1583874836 name=JointAviationWorkers username=ldfsz>, <User id=1453302663362273283 name=PlantLAAP username=PlantLaap>, <User id=1503312248290295809 name=Рустем Калмуратов username=RustemKalmurat2>, <User id=1020360159732879360 name=Joseph Trent username=trenz999>, <User id=1497110823264829448 name=التعكر username=altkr3>, <User id=1502157451713724416 name=Amit Sharma username=AmitSha89415151>, <User id=1490565621180137474 name=lyra test username=TestLyra>, <User id=1310715578454339586 name=DawlFace username=FaceDawl>, <User id=1482926440886595587 name=Steve V1nC9nT 6#oden Jac7son H3NRY username=OdenH3nry>, <User id=1477580970517676032 name=g username=glevihr>, <User id=1115389452464140288 name=Nadia Hylary username=hylary_nh>, <User id=1470068293402775562 name=Jon Hughes username=JonHugh04433418>, <User id=1478032008324419584 name=Zamal Uddin username=Zamaluddin97>, <User id=15957894 name=Happy DAC username=aaronvan1964>, <User id=1501548865547390979 name=Angel Montero username=AngelMo71028468>, <User id=1436299050 name=Klaus Frank username=agowa338>, <User id=1503226494897688578 name=I am a bot! username=genericbotname>, <User id=1490153560587202560 name=lutve username=_lutve>, <User id=997734571922874369 name=Rubbbby💃 username=interovert>, <User id=1166014676427255808 name=The Black Circle username=TheBlackCircle3>, <User id=1473693468539211782 name=PowerSmartPricingPriceMonitor username=PSPMonitor>, <User id=1439310113018454029 name=g Montenegro username=gMonten35271895>, <User id=960734026985218049 name=Black (🦍, 🦍) username=cryptoblack2022>, <User id=1503174860843143174 name=Eline username=elineizme>, <User id=1479391620810248192 name=Suriyadinata AMd username=SuriyadinataA>, <User id=1342694223154302979 name=Vamsi Krishna username=mt15freak>, <User id=1500435071286878212 name=Sir Quotes a lot username=quotes_lot>, <User id=910211917230280707 name=Followers username=sufiyan_hordofa>, <User id=1131764983535087617 name=Yuichi username=YUICHI_TTWI>, <User id=1573037641 name=Milind Mishra⚡ username=dryruncatch>, <User id=927819315759468544 name=Amr El Ramsisy username=amrelramsisy>, <User id=1499508937397358603 name=Fello Castillo username=FelloCastillo1>, <User id=1487337873515102212 name=TIGER2022 username=TIGER202282>, <User id=1430508313951752193 name=Timo C. Vanderpump username=VanderpumpTVG>, <User id=71386044 name=Jason Jones username=Gofasterstripe>, <User id=1484639009427099651 name=Moses Ibrahim username=MosesIbram11>, <User id=913269325 name=Beauty & Health with iHerb username=iHerb_MD>, <User id=1393556482692616194 name=Sergio Pinilla username=serpin7767>, <User id=2420790121 name=ɴᴀɴᴀᴜʏ🐍 username=NanaUserMM>, <User id=1503061517453127680 name=Dani username=Dani04008432>, <User id=854364952517263360 name=wkhray username=wkhray>, <User id=1420052044233117696 name=Scott Troy Britton username=ScottTroyBritt8>, <User id=1503066242260865027 name=Potlako Ntsekhe username=NtsekhePotlako>, <User id=3747292938 name=Sam username=208ashutoshmis1>, <User id=102296144 name=👩🏻‍💻🇩🇴 username=xo_marii>, <User id=1496562307715022848 name=Cloud Alphas username=CloudAlphasNFT>, <User id=157130102 name=Jennifer Wang username=jennifernwang>, <User id=1179869083048787968 name=Rony username=Lucas86268875>, <User id=1493137050043887616 name=Wang X username=xwang26126>, <User id=1500511310550908929 name=CASCO Agent username=CascoAgent>, <User id=1491978608004550700 name=Seval akcelik username=akcelikseval153>, <User id=1117874006823243776 name=ARockss Management username=officialarockss>, <User id=1495098260163563522 name=Mohammad Istiaq Uddin username=_istiaqosman>, <User id=1500112037078315015 name=mehmet username=r_e_i_s58>, <User id=1502554234734395399 name=ARM’Y username=ArmArmy61832381>, <User id=2188714462 name=Play❤️‍🔥 username=PS5only>, <User id=1503009817249857538 name=Dhruba Rokaya username=DhrubaRokaya>, <User id=1477597628120526853 name=Fahmy Fauzi username=FahmyFauzi10>, <User id=1342994766619955200 name=si username=n_dsmt>, <User id=838666653772746753 name=nft enjoyer ☢️ username=gen_senju>, <User id=1476466455524818949 name=Jelmer username=NFT_Thesis>, <User id=509085159 name=何剛 username=michelo851a1203>, <User id=1488855234415894532 name=القاضي محمد الحازمي username=AlhazmyAlqady>, <User id=1498703361058787331 name=Philip Matthews username=PhilipM56849219>, <User id=1465436399033888777 name=Rudd Ngoy username=NgoyRudd>, <User id=1500493967095320586 name=Maria Isabel Martinez username=44385065Maria>, <User id=1502904637552312323 name=Terry Rose username=TerryRo28176658>, <User id=1454834102012502016 name=Bapuji ke bacche 😎 username=bhabani_01>, <User id=126853351 name=Law username=lawgimenez>, <User id=1226042832743329792 name=rizal r. username=rizalpqr>, <User id=752009109570883584 name=jayden lawrence username=jaydenllive2011>, <User id=1239863826041827328 name=JASA PRINT HVS ONLINE VIA TOKPED username=lattifacoprints>, <User id=1225777422844514306 name=Investomanen username=investomanen>, <User id=1274113826770878470 name=AAL.ALI username=FAALALI01>, <User id=1140388345 name=🟣ᘿᐺᘿ username=EveFrecuency>, <User id=1492971471102173184 name=Elvira Bushaj username=bushaj_elvira>, <User id=157324637 name=IPCIOM username=IngenieriaTech>, <User id=1599728401 name=なつみかん username=ntm0n>, <User id=1208777718013321217 name=Mehmood Malik username=Mehmood32620093>, <User id=3480590357 name=Muhammad Shabbir username=Shabbir9965>, <User id=1375206668041125890 name=Jake Perez username=JakePer72759476>, <User id=146255069 name=Remz 🇱🇨 username=RemzTheAwesome>, <User id=1496252025998385158 name=KÖY username=KimBili65662479>, <User id=1403597154191515650 name=William Harrison username=WDHarrison09>, <User id=1053915992336650241 name=Vikram Bhati Baluntri username=VikramB80062947>, <User id=1490521015624998914 name=CM.TNSU username=CmTnsu>, <User id=1497004180820705282 name=quentin buchanan username=965246d>, <User id=1497643530906476545 name=Roger Miller CEO REALITY MAINE username=welookout4u>, <User id=1497099658946093056 name=Kendra Austin username=KendraA03410337>, <User id=123287777 name=Jose Antonio Aguilar username=sanjos_k>], includes={}, errors=[], meta={'result_count': 100, 'next_token': 'KL54HU870VS1EZZZ'})\n"
     ]
    }
   ],
   "source": [
    "\n",
    "print(result)"
   ]
  },
  {
   "cell_type": "code",
   "execution_count": null,
   "metadata": {},
   "outputs": [],
   "source": []
  }
 ],
 "metadata": {
  "interpreter": {
   "hash": "916dbcbb3f70747c44a77c7bcd40155683ae19c65e1c03b4aa3499c5328201f1"
  },
  "kernelspec": {
   "display_name": "Python 3.8.10 64-bit",
   "language": "python",
   "name": "python3"
  },
  "language_info": {
   "codemirror_mode": {
    "name": "ipython",
    "version": 3
   },
   "file_extension": ".py",
   "mimetype": "text/x-python",
   "name": "python",
   "nbconvert_exporter": "python",
   "pygments_lexer": "ipython3",
   "version": "3.8.10"
  },
  "orig_nbformat": 4
 },
 "nbformat": 4,
 "nbformat_minor": 2
}
