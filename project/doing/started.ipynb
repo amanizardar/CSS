{
 "cells": [
  {
   "cell_type": "code",
   "execution_count": 1,
   "metadata": {},
   "outputs": [],
   "source": [
    "import tweepy\n",
    "import random\n",
    "from matplotlib import pyplot as plt"
   ]
  },
  {
   "cell_type": "code",
   "execution_count": 2,
   "metadata": {},
   "outputs": [],
   "source": [
    "# client = tweepy.Client(\n",
    "#     consumer_key=\"MleJeiU9KM26evls623GTZUZu\",\n",
    "#     consumer_secret=\"exhT0sUUmIJOlutw0hOmggdwooaW17KchsWCIw555bEHu5ZZtr\",\n",
    "#     access_token=\"1159501866515873792-UkxQK8Vkta4ZSnux9AcMMGR7tRV3Fr\",\n",
    "#     access_token_secret=\"qtUiP8kDYsTdecbmd7GfCQuzlW79DL2IeFxgfunnpKM8b\",\n",
    "#     wait_on_rate_limit=True\n",
    "# )\n"
   ]
  },
  {
   "cell_type": "code",
   "execution_count": 2,
   "metadata": {},
   "outputs": [],
   "source": [
    "client = tweepy.Client(bearer_token='AAAAAAAAAAAAAAAAAAAAANBeYAEAAAAAgveakwQF7x6LG1RisGOLsZE%2FxOg%3DQjd7wwADzri230cjA9ERzWVP2qPIrvbiuSMXu29igUyQaGsPh0',wait_on_rate_limit=True)"
   ]
  },
  {
   "cell_type": "code",
   "execution_count": 3,
   "metadata": {},
   "outputs": [],
   "source": [
    "query = 'from:suhemparack -is:retweet'"
   ]
  },
  {
   "cell_type": "code",
   "execution_count": 4,
   "metadata": {},
   "outputs": [],
   "source": [
    "tweets = client.search_recent_tweets(query=query, tweet_fields=['context_annotations', 'created_at'], max_results=100)"
   ]
  },
  {
   "cell_type": "code",
   "execution_count": 5,
   "metadata": {},
   "outputs": [
    {
     "name": "stdout",
     "output_type": "stream",
     "text": [
      "Getting Quote Tweets in #Python using Tweepy (thanks to @Harmon758) https://t.co/5OO5mm1RL7\n",
      "[{'domain': {'id': '65', 'name': 'Interests and Hobbies Vertical', 'description': 'Top level interests and hobbies groupings, like Food or Travel'}, 'entity': {'id': '848920371311001600', 'name': 'Technology', 'description': 'Technology and computing'}}, {'domain': {'id': '66', 'name': 'Interests and Hobbies Category', 'description': 'A grouping of interests and hobbies entities, like Novelty Food or Destinations'}, 'entity': {'id': '848921413196984320', 'name': 'Computer programming', 'description': 'Computer programming'}}, {'domain': {'id': '30', 'name': 'Entities [Entity Service]', 'description': 'Entity Service top level domain, every item that is in Entity Service should be in this domain'}, 'entity': {'id': '930484568305541120', 'name': 'Data science', 'description': 'Data Science'}}, {'domain': {'id': '46', 'name': 'Brand Category', 'description': 'Categories within Brand Verticals that narrow down the scope of Brands'}, 'entity': {'id': '781974596752842752', 'name': 'Services'}}, {'domain': {'id': '47', 'name': 'Brand', 'description': 'Brands and Companies'}, 'entity': {'id': '10045225402', 'name': 'Twitter'}}]\n",
      "Between the full-archive search in academic #TwitterAPI v2, the conversation_id feature (that gives you all replies to a Tweet) and this new endpoint - researchers can study the ENTIRE conversation around a Tweet easily (all Quote Tweets+Replies) 💪 \n",
      "\n",
      "Available in Tweepy &amp; Twarc https://t.co/z03bi3RUgs\n",
      "[{'domain': {'id': '46', 'name': 'Brand Category', 'description': 'Categories within Brand Verticals that narrow down the scope of Brands'}, 'entity': {'id': '781974596752842752', 'name': 'Services'}}, {'domain': {'id': '47', 'name': 'Brand', 'description': 'Brands and Companies'}, 'entity': {'id': '10045225402', 'name': 'Twitter'}}]\n",
      "Good to see the engagement on this Tweet. Many social science researchers had given us feedback that they’d rather not spend time writing code to get data for their research - this tool makes it easy to get data without any code. Pls share it with other researchers &amp; students🙏\n",
      "[{'domain': {'id': '46', 'name': 'Brand Category', 'description': 'Categories within Brand Verticals that narrow down the scope of Brands'}, 'entity': {'id': '781974596752842752', 'name': 'Services'}}, {'domain': {'id': '48', 'name': 'Product', 'description': 'Products created by Brands.  Examples: Ford Explorer, Apple iPhone.'}, 'entity': {'id': '1412579054855671809', 'name': 'Google Innovation'}}, {'domain': {'id': '65', 'name': 'Interests and Hobbies Vertical', 'description': 'Top level interests and hobbies groupings, like Food or Travel'}, 'entity': {'id': '854692455005921281', 'name': 'Science', 'description': 'Science'}}, {'domain': {'id': '46', 'name': 'Brand Category', 'description': 'Categories within Brand Verticals that narrow down the scope of Brands'}, 'entity': {'id': '781974596752842752', 'name': 'Services'}}, {'domain': {'id': '47', 'name': 'Brand', 'description': 'Brands and Companies'}, 'entity': {'id': '10045225402', 'name': 'Twitter'}}]\n",
      "@ljthornton Yes for real 🙌\n",
      "@ranakoolbd Look in the folder that you selected on your machine.. do you see it there?\n",
      "Academic Researchers 🚨🚨 We have a new tool for you that lets you get data from the #TwitterAPI v2 without writing code. Just add your bearer token, build your search queries and download data as CSV or JSON. Try it out and share with other researchers👇https://t.co/c2rwdbvU7L https://t.co/VMfnMVfoqM\n",
      "[{'domain': {'id': '65', 'name': 'Interests and Hobbies Vertical', 'description': 'Top level interests and hobbies groupings, like Food or Travel'}, 'entity': {'id': '848920371311001600', 'name': 'Technology', 'description': 'Technology and computing'}}, {'domain': {'id': '66', 'name': 'Interests and Hobbies Category', 'description': 'A grouping of interests and hobbies entities, like Novelty Food or Destinations'}, 'entity': {'id': '848921413196984320', 'name': 'Computer programming', 'description': 'Computer programming'}}, {'domain': {'id': '46', 'name': 'Brand Category', 'description': 'Categories within Brand Verticals that narrow down the scope of Brands'}, 'entity': {'id': '781974596752842752', 'name': 'Services'}}, {'domain': {'id': '47', 'name': 'Brand', 'description': 'Brands and Companies'}, 'entity': {'id': '10045225402', 'name': 'Twitter'}}]\n",
      "@_Tiagoventura @McCourtSchool @Georgetown @CSMaP_NYU Congrats 🎊\n"
     ]
    }
   ],
   "source": [
    "for tweet in tweets.data:\n",
    "    print(tweet.text)\n",
    "    if len(tweet.context_annotations) > 0:\n",
    "        print(tweet.context_annotations)"
   ]
  },
  {
   "cell_type": "code",
   "execution_count": 6,
   "metadata": {},
   "outputs": [
    {
     "name": "stdout",
     "output_type": "stream",
     "text": [
      "100\n"
     ]
    }
   ],
   "source": [
    "# id = '2244994945'\n",
    "\n",
    "# users = client.get_users_followers(id=id)\n",
    "\n",
    "\n",
    "\n",
    "# # for user in users:\n",
    "# #     print(user)\n",
    "# print(len(users.data))"
   ]
  },
  {
   "cell_type": "code",
   "execution_count": 7,
   "metadata": {},
   "outputs": [],
   "source": [
    "# result = client.get_users_followers(id=2244994945)"
   ]
  },
  {
   "cell_type": "code",
   "execution_count": 9,
   "metadata": {},
   "outputs": [],
   "source": [
    "\n",
    "# print(result)"
   ]
  },
  {
   "cell_type": "code",
   "execution_count": 24,
   "metadata": {},
   "outputs": [],
   "source": [
    "id = '57948579'\n",
    "\n",
    "tweets = client.get_users_tweets(id=id)\n"
   ]
  },
  {
   "cell_type": "code",
   "execution_count": 25,
   "metadata": {},
   "outputs": [
    {
     "name": "stdout",
     "output_type": "stream",
     "text": [
      "आगरा के पत्रकार गौरव अग्रवाल की सच्ची पत्रकारिता व जनहित में उठाई आवाज़ को भाजपा सरकार ने शारीरिक प्रताड़ना से दबाना चाहा है।\n",
      "देशभर के पत्रकार इस उत्पीड़न के ख़िलाफ़ साथ आएं!\n",
      "\n",
      "तत्काल न्यायिक जाँच हो!\n",
      "\n",
      "ये लोकतंत्र के ‘चौथे स्तंभ’ को ‘थोथे स्तंभ’ में बदलने की घोर निंदनीय साज़िश है। https://t.co/a0m2fofOkH\n",
      "शब-ए-बारात मुबारक हो!\n",
      "https://t.co/fd2rIB6iyL\n",
      "आज की होली फूलों वाली। https://t.co/DArkUuVm09\n",
      "सबको सतरंगी होली की… सत्यरंगी होली की शुभकामनाएँ! https://t.co/fWYTaMok3A\n",
      "RT @BBCHindi: 'ये फ़िल्म 2024 चुनाव के लिए स्टंट है'\n",
      "\n",
      "'इस तरह के फ़िल्में दूरियां पैदा करेगी'\n",
      "\n",
      "‘द कश्मीर फ़ाइल्स’ फ़िल्म पर जम्मू में रहने…\n",
      "https://t.co/fzk3iHUyom\n",
      "पूर्व मंत्री श्री नरेंद्र वर्मा जी के भाई, स्वर्गीय महेंद्र वर्मा जी को अर्पित किए श्रद्धासुमन!\n",
      "\n",
      "परिवार के शोक संतप्त सदस्यों से मिलकर प्रकट की संवेदना।\n",
      "\n",
      "भावभीनी श्रद्धांजलि! https://t.co/jTQtKs8hKu\n",
      "सफ़र में साँड़ तो मिलेंगे… जो चल सको तो चलो…\n",
      "बड़ा कठिन है यूपी में सफ़र जो चल सको तो चलो! https://t.co/ZunRV6qlPa\n",
      "पंजाब के नव निर्वाचित मुख्यमंत्री श्री भगवंत मान जी को शपथ समारोह के लिए अनंत बधाई एवं शुभकामनाएँ! \n",
      "\n",
      "आशा है उनके कुशल नेतृत्व में पंजाब में तरक़्क़ी, भाईचारे और नये नज़रिये की फसल ख़ूब लहलहाएगी। https://t.co/fVgUGrbCX1\n"
     ]
    }
   ],
   "source": [
    "for tweet in tweets.data:\n",
    "    print(tweet)"
   ]
  },
  {
   "cell_type": "code",
   "execution_count": 27,
   "metadata": {},
   "outputs": [],
   "source": [
    "# query = 'covid -is:retweet'\n",
    "# mylist=[]\n",
    "# for tweet in tweepy.Paginator(client.search_recent_tweets, query=query,\n",
    "#                               tweet_fields=['context_annotations', 'created_at'], max_results=100).flatten(limit=1000):\n",
    "#     # print(tweet.id)\n",
    "#     mylist.append(tweet.id)"
   ]
  },
  {
   "cell_type": "code",
   "execution_count": 34,
   "metadata": {},
   "outputs": [],
   "source": [
    "start_time = '2020-01-01T00:00:00Z'\n",
    "end_time = '2020-08-01T00:00:00Z'"
   ]
  },
  {
   "cell_type": "code",
   "execution_count": 50,
   "metadata": {},
   "outputs": [],
   "source": [
    "# query = 'from:yadavakhilesh -is:retweet'\n",
    "query = 'from:elonmusk -is:retweet'\n",
    "mylist=[]\n",
    "# tweets = client.search_all_tweets(query=query, max_results=100)\n",
    "# tweets = client.search_all_tweets(query=query, tweet_fields=['context_annotations', 'created_at'],\n",
    "#                                   start_time=start_time,\n",
    "#                                   end_time=end_time, max_results=100)\n",
    "for tweet in tweepy.Paginator(client.search_recent_tweets, query=query,\n",
    "                               max_results=100).flatten(limit=1000):\n",
    "                            #   print(tweet.id)\n",
    "                              mylist.append(tweet.id)\n",
    "\n",
    "# tweets = client.search_recent_tweets(query=query, \n",
    "#                                     tweet_fields=['author_id', 'created_at'],\n",
    "#                                      max_results=100)\n",
    "\n",
    "\n"
   ]
  },
  {
   "cell_type": "code",
   "execution_count": 49,
   "metadata": {},
   "outputs": [
    {
     "name": "stdout",
     "output_type": "stream",
     "text": [
      "64\n"
     ]
    }
   ],
   "source": [
    "# for tweet in tweets.data:\n",
    "#     print(tweet.text)\n",
    "# print(len(mylist))\n",
    "print(len(tweets.data))"
   ]
  },
  {
   "cell_type": "code",
   "execution_count": null,
   "metadata": {},
   "outputs": [],
   "source": []
  }
 ],
 "metadata": {
  "interpreter": {
   "hash": "916dbcbb3f70747c44a77c7bcd40155683ae19c65e1c03b4aa3499c5328201f1"
  },
  "kernelspec": {
   "display_name": "Python 3.8.10 64-bit",
   "language": "python",
   "name": "python3"
  },
  "language_info": {
   "codemirror_mode": {
    "name": "ipython",
    "version": 3
   },
   "file_extension": ".py",
   "mimetype": "text/x-python",
   "name": "python",
   "nbconvert_exporter": "python",
   "pygments_lexer": "ipython3",
   "version": "3.8.10"
  },
  "orig_nbformat": 4
 },
 "nbformat": 4,
 "nbformat_minor": 2
}
